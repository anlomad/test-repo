{
  "metadata": {
    "kernelspec": {
      "name": "python",
      "display_name": "Python (Pyodide)",
      "language": "python"
    },
    "language_info": {
      "codemirror_mode": {
        "name": "python",
        "version": 3
      },
      "file_extension": ".py",
      "mimetype": "text/x-python",
      "name": "python",
      "nbconvert_exporter": "python",
      "pygments_lexer": "ipython3",
      "version": "3.8"
    }
  },
  "nbformat_minor": 4,
  "nbformat": 4,
  "cells": [
    {
      "cell_type": "markdown",
      "source": "Data Science Tools and Ecosystem",
      "metadata": {}
    },
    {
      "cell_type": "markdown",
      "source": "En este cuaderno, se resumen las herramientas y ecosistemas de ciencia de datos.",
      "metadata": {}
    },
    {
      "cell_type": "markdown",
      "source": "***Objetivos:***\n- Lenguajes para la ciencia de datos\n- Bibliotecas para la ciencia de datos\n- herramientas para la ciencia de datos\n- Evaluación de expresiones aritméticas\n\n",
      "metadata": {}
    },
    {
      "cell_type": "markdown",
      "source": "Algunos de los lenguajes populares que utilizan los científicos de datos son:\n1. Python\n2. R\n3. C++\n4. SQL\n5. LAN\n6. Scala\n7. Julia\n8. Java",
      "metadata": {}
    },
    {
      "cell_type": "markdown",
      "source": "Algunas de las bibliotecas comúnmente utilizadas por los científicos de datos incluyen:\n1. Scikit-learn\n2. NumPy\n3. Pandas\n4. matplotlib\n5. Seaborn\n6. dplyr\n7. ggplot2\n8. tidyr\n9. caret\n10. Vegas",
      "metadata": {}
    },
    {
      "cell_type": "markdown",
      "source": "# Herramientas de Ciencia de Datos\n|Herramientas de Ciencia de Datos|\n|----------------|\n|Python|\n|R|\n|Jupiter Notebook|",
      "metadata": {}
    },
    {
      "cell_type": "code",
      "source": "# Herramientas de Ciencia de Datos\n|Herramientas de Ciencia de Datos|\n|----------------|\n|Python|\n|R|\n|Jupiter Notebook|\n",
      "metadata": {
        "trusted": true
      },
      "outputs": [],
      "execution_count": null
    },
    {
      "cell_type": "markdown",
      "source": "### A continuación, se presentan algunos ejemplos de evaluación de expresiones aritméticas en Python",
      "metadata": {}
    },
    {
      "cell_type": "markdown",
      "source": "### A continuación, se presentan algunos ejemplos de evaluación de expresiones aritméticas en Python\n",
      "metadata": {}
    },
    {
      "cell_type": "markdown",
      "source": "#### Esta es una expresión aritmética simple para multiplicar y luego sumar enteros.",
      "metadata": {}
    },
    {
      "cell_type": "code",
      "source": "(3*4)+5",
      "metadata": {
        "trusted": true
      },
      "outputs": [
        {
          "execution_count": 4,
          "output_type": "execute_result",
          "data": {
            "text/plain": "17"
          },
          "metadata": {}
        }
      ],
      "execution_count": 4
    },
    {
      "cell_type": "markdown",
      "source": "Esto convertirá 200 minutos a horas dividiendo por 60.",
      "metadata": {}
    },
    {
      "cell_type": "code",
      "source": "#Esto convertirá 200 minutos a horas dividiendo por 60\n200/60",
      "metadata": {
        "trusted": true
      },
      "outputs": [
        {
          "execution_count": 5,
          "output_type": "execute_result",
          "data": {
            "text/plain": "3.3333333333333335"
          },
          "metadata": {}
        }
      ],
      "execution_count": 5
    },
    {
      "cell_type": "markdown",
      "source": "## Autor\n***Antonio López Madrid***",
      "metadata": {}
    }
  ]
}